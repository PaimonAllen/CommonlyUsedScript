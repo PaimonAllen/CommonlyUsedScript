{
 "cells": [
  {
   "cell_type": "code",
   "execution_count": 1,
   "metadata": {},
   "outputs": [
    {
     "name": "stdout",
     "output_type": "stream",
     "text": [
      "***获取当前目录***\n",
      "d:\\GitHubSYNC\\CommonlyUsedScript\n",
      "d:\\GitHubSYNC\\CommonlyUsedScript\n",
      "***获取上级目录***\n",
      "d:\\GitHubSYNC\\CommonlyUsedScript\n",
      "d:\\GitHubSYNC\n",
      "d:\\GitHubSYNC\n",
      "***获取上上级目录***\n",
      "d:\\\n"
     ]
    }
   ],
   "source": [
    "# 获取目录\n",
    "# encoding:gbk\n",
    "\n",
    "\n",
    "\n",
    "print('***获取当前目录***')\n",
    "print(os.getcwd())\n",
    "print(os.path.abspath(os.path.dirname('__file__')))\n",
    "\n",
    "print('***获取上级目录***')\n",
    "print(os.path.abspath(os.path.dirname(os.path.dirname('__file__'))))\n",
    "print(os.path.abspath(os.path.dirname(os.getcwd())))\n",
    "print(os.path.abspath(os.path.join(os.getcwd(), \"..\")))\n",
    "\n",
    "print('***获取上上级目录***')\n",
    "print(os.path.abspath(os.path.join(os.getcwd(), \"../..\")))"
   ]
  }
 ],
 "metadata": {
  "kernelspec": {
   "display_name": "Python 3.8.5 ('base')",
   "language": "python",
   "name": "python3"
  },
  "language_info": {
   "codemirror_mode": {
    "name": "ipython",
    "version": 3
   },
   "file_extension": ".py",
   "mimetype": "text/x-python",
   "name": "python",
   "nbconvert_exporter": "python",
   "pygments_lexer": "ipython3",
   "version": "3.8.5"
  },
  "orig_nbformat": 4,
  "vscode": {
   "interpreter": {
    "hash": "100fbfc6edc373444fe7457920a715126ccddf0d60ec3eff5e4665d7364007f2"
   }
  }
 },
 "nbformat": 4,
 "nbformat_minor": 2
}
